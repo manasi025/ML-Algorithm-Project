{
 "cells": [
  {
   "cell_type": "code",
   "execution_count": 5,
   "id": "e52d210b",
   "metadata": {},
   "outputs": [],
   "source": [
    "import pandas as pd\n",
    "import numpy as np\n",
    "from sklearn.model_selection import train_test_split\n",
    "from sklearn.metrics import make_scorer\n",
    "from sklearn.preprocessing import LabelEncoder\n",
    "from sklearn.linear_model import LinearRegression\n",
    "from sklearn.tree import DecisionTreeRegressor\n",
    "from sklearn.ensemble import RandomForestRegressor, GradientBoostingRegressor\n",
    "#from sklearn.svm import SVR\n",
    "#from xgboost import XGBRegressor\n",
    "#from catboost import CatBoostRegressor\n",
    "#from lightgbm import LGBMRegressor\n",
    "import joblib"
   ]
  },
  {
   "cell_type": "code",
   "execution_count": 6,
   "id": "36864f7f",
   "metadata": {},
   "outputs": [],
   "source": [
    "# Load train and test data\n",
    "train_df = pd.read_csv('train.csv')\n",
    "test_df = pd.read_csv('test.csv')"
   ]
  },
  {
   "cell_type": "code",
   "execution_count": 7,
   "id": "861b2060",
   "metadata": {},
   "outputs": [
    {
     "data": {
      "text/html": [
       "<div>\n",
       "<style scoped>\n",
       "    .dataframe tbody tr th:only-of-type {\n",
       "        vertical-align: middle;\n",
       "    }\n",
       "\n",
       "    .dataframe tbody tr th {\n",
       "        vertical-align: top;\n",
       "    }\n",
       "\n",
       "    .dataframe thead th {\n",
       "        text-align: right;\n",
       "    }\n",
       "</style>\n",
       "<table border=\"1\" class=\"dataframe\">\n",
       "  <thead>\n",
       "    <tr style=\"text-align: right;\">\n",
       "      <th></th>\n",
       "      <th>id</th>\n",
       "      <th>Sex</th>\n",
       "      <th>Length</th>\n",
       "      <th>Diameter</th>\n",
       "      <th>Height</th>\n",
       "      <th>Whole weight</th>\n",
       "      <th>Whole weight.1</th>\n",
       "      <th>Whole weight.2</th>\n",
       "      <th>Shell weight</th>\n",
       "      <th>Rings</th>\n",
       "    </tr>\n",
       "  </thead>\n",
       "  <tbody>\n",
       "    <tr>\n",
       "      <th>0</th>\n",
       "      <td>0</td>\n",
       "      <td>F</td>\n",
       "      <td>0.550</td>\n",
       "      <td>0.430</td>\n",
       "      <td>0.150</td>\n",
       "      <td>0.7715</td>\n",
       "      <td>0.3285</td>\n",
       "      <td>0.1465</td>\n",
       "      <td>0.2400</td>\n",
       "      <td>11</td>\n",
       "    </tr>\n",
       "    <tr>\n",
       "      <th>1</th>\n",
       "      <td>1</td>\n",
       "      <td>F</td>\n",
       "      <td>0.630</td>\n",
       "      <td>0.490</td>\n",
       "      <td>0.145</td>\n",
       "      <td>1.1300</td>\n",
       "      <td>0.4580</td>\n",
       "      <td>0.2765</td>\n",
       "      <td>0.3200</td>\n",
       "      <td>11</td>\n",
       "    </tr>\n",
       "    <tr>\n",
       "      <th>2</th>\n",
       "      <td>2</td>\n",
       "      <td>I</td>\n",
       "      <td>0.160</td>\n",
       "      <td>0.110</td>\n",
       "      <td>0.025</td>\n",
       "      <td>0.0210</td>\n",
       "      <td>0.0055</td>\n",
       "      <td>0.0030</td>\n",
       "      <td>0.0050</td>\n",
       "      <td>6</td>\n",
       "    </tr>\n",
       "    <tr>\n",
       "      <th>3</th>\n",
       "      <td>3</td>\n",
       "      <td>M</td>\n",
       "      <td>0.595</td>\n",
       "      <td>0.475</td>\n",
       "      <td>0.150</td>\n",
       "      <td>0.9145</td>\n",
       "      <td>0.3755</td>\n",
       "      <td>0.2055</td>\n",
       "      <td>0.2500</td>\n",
       "      <td>10</td>\n",
       "    </tr>\n",
       "    <tr>\n",
       "      <th>4</th>\n",
       "      <td>4</td>\n",
       "      <td>I</td>\n",
       "      <td>0.555</td>\n",
       "      <td>0.425</td>\n",
       "      <td>0.130</td>\n",
       "      <td>0.7820</td>\n",
       "      <td>0.3695</td>\n",
       "      <td>0.1600</td>\n",
       "      <td>0.1975</td>\n",
       "      <td>9</td>\n",
       "    </tr>\n",
       "  </tbody>\n",
       "</table>\n",
       "</div>"
      ],
      "text/plain": [
       "   id Sex  Length  Diameter  Height  Whole weight  Whole weight.1  \\\n",
       "0   0   F   0.550     0.430   0.150        0.7715          0.3285   \n",
       "1   1   F   0.630     0.490   0.145        1.1300          0.4580   \n",
       "2   2   I   0.160     0.110   0.025        0.0210          0.0055   \n",
       "3   3   M   0.595     0.475   0.150        0.9145          0.3755   \n",
       "4   4   I   0.555     0.425   0.130        0.7820          0.3695   \n",
       "\n",
       "   Whole weight.2  Shell weight  Rings  \n",
       "0          0.1465        0.2400     11  \n",
       "1          0.2765        0.3200     11  \n",
       "2          0.0030        0.0050      6  \n",
       "3          0.2055        0.2500     10  \n",
       "4          0.1600        0.1975      9  "
      ]
     },
     "execution_count": 7,
     "metadata": {},
     "output_type": "execute_result"
    }
   ],
   "source": [
    "# Display the first few rows of the DataFrame\n",
    "train_df.head()"
   ]
  },
  {
   "cell_type": "code",
   "execution_count": 8,
   "id": "457a7758",
   "metadata": {},
   "outputs": [
    {
     "data": {
      "text/plain": [
       "(90615, 10)"
      ]
     },
     "execution_count": 8,
     "metadata": {},
     "output_type": "execute_result"
    }
   ],
   "source": [
    "train_df.shape"
   ]
  },
  {
   "cell_type": "code",
   "execution_count": 9,
   "id": "1186d91c",
   "metadata": {},
   "outputs": [
    {
     "data": {
      "text/plain": [
       "(60411, 9)"
      ]
     },
     "execution_count": 9,
     "metadata": {},
     "output_type": "execute_result"
    }
   ],
   "source": [
    "test_df.shape"
   ]
  },
  {
   "cell_type": "code",
   "execution_count": 10,
   "id": "f1c2880c",
   "metadata": {},
   "outputs": [
    {
     "data": {
      "text/plain": [
       "id                0\n",
       "Sex               0\n",
       "Length            0\n",
       "Diameter          0\n",
       "Height            0\n",
       "Whole weight      0\n",
       "Whole weight.1    0\n",
       "Whole weight.2    0\n",
       "Shell weight      0\n",
       "Rings             0\n",
       "dtype: int64"
      ]
     },
     "execution_count": 10,
     "metadata": {},
     "output_type": "execute_result"
    }
   ],
   "source": [
    "# Check for missing values\n",
    "train_df.isnull().sum()"
   ]
  },
  {
   "cell_type": "code",
   "execution_count": 11,
   "id": "e08ebd22",
   "metadata": {},
   "outputs": [
    {
     "name": "stdout",
     "output_type": "stream",
     "text": [
      "Number of duplicated rows: 0\n"
     ]
    }
   ],
   "source": [
    "# Check for duplicated values \n",
    "duplicates = train_df.duplicated()\n",
    "\n",
    "# Count the number of duplicated rows\n",
    "num_duplicates = duplicates.sum()\n",
    "\n",
    "print(\"Number of duplicated rows:\", num_duplicates)\n"
   ]
  },
  {
   "cell_type": "code",
   "execution_count": 12,
   "id": "e9c4cf37",
   "metadata": {},
   "outputs": [
    {
     "data": {
      "text/plain": [
       "<Axes: xlabel='Rings'>"
      ]
     },
     "execution_count": 12,
     "metadata": {},
     "output_type": "execute_result"
    },
    {
     "data": {
      "image/png": "[encoded data removed]",
      "text/plain": [
       "<Figure size 640x480 with 1 Axes>"
      ]
     },
     "metadata": {},
     "output_type": "display_data"
    }
   ],
   "source": [
    "# Visualize the distribution of the target variable (Rings)\n",
    "\n",
    "train_df['Rings'].value_counts().plot(kind='bar')\n"
   ]
  },
  {
   "cell_type": "code",
   "execution_count": 13,
   "id": "0f080d7e",
   "metadata": {},
   "outputs": [],
   "source": [
    "# Encode categorical variables\n",
    "\n",
    "le = LabelEncoder()\n",
    "train_df['Sex'] = le.fit_transform(train_df['Sex'])\n",
    "test_df['Sex'] = le.transform(test_df['Sex'])"
   ]
  },
  {
   "cell_type": "code",
   "execution_count": 14,
   "id": "f94bd02e",
   "metadata": {},
   "outputs": [],
   "source": [
    "# Split data into features and target variable\n",
    "\n",
    "X = train_df.drop(['id', 'Rings'], axis=1)\n",
    "y = train_df['Rings']\n",
    "X_test = test_df.drop('id', axis=1)"
   ]
  },
  {
   "cell_type": "code",
   "execution_count": 15,
   "id": "ca6934b8",
   "metadata": {},
   "outputs": [],
   "source": [
    "# Split data into train and validation sets\n",
    "\n",
    "X_train, X_val, y_train, y_val = train_test_split(X, y, test_size=0.2, random_state=42)"
   ]
  },
  {
   "cell_type": "code",
   "execution_count": 16,
   "id": "45bdcdae",
   "metadata": {},
   "outputs": [],
   "source": [
    "# Define custom RMSLE scorer\n",
    "def rmsle_score(y_true, y_pred):\n",
    "    y_true = np.maximum(y_true, 0)  # Ensure y_true is non-negative\n",
    "    y_pred = np.maximum(y_pred, 0)  # Ensure y_pred is non-negative\n",
    "    squared_log_errors = (np.log1p(y_pred) - np.log1p(y_true)) ** 2\n",
    "    mean_squared_log_error = np.mean(squared_log_errors)\n",
    "    rmsle = np.sqrt(mean_squared_log_error)\n",
    "    return rmsle\n"
   ]
  },
  {
   "cell_type": "code",
   "execution_count": 17,
   "id": "268813d6",
   "metadata": {},
   "outputs": [],
   "source": [
    "rmsle_scorer = make_scorer(rmsle_score, greater_is_better=False)"
   ]
  },
  {
   "cell_type": "code",
   "execution_count": 20,
   "id": "bf87eafe",
   "metadata": {},
   "outputs": [],
   "source": [
    "# Define models\n",
    "\n",
    "models = [\n",
    "    LinearRegression(),\n",
    "    DecisionTreeRegressor(),\n",
    "    RandomForestRegressor(n_estimators=100, random_state=42),\n",
    "   # GradientBoostingRegressor(),\n",
    "    #SVR(),\n",
    "    #XGBRegressor(),\n",
    "    #CatBoostRegressor(verbose=0),\n",
    "    #LGBMRegressor()\n",
    "]"
   ]
  },
  {
   "cell_type": "code",
   "execution_count": 21,
   "id": "da602f6a",
   "metadata": {},
   "outputs": [
    {
     "name": "stdout",
     "output_type": "stream",
     "text": [
      "LinearRegression: RMSLE: 0.16788369061299604\n",
      "DecisionTreeRegressor: RMSLE: 0.21697980414208295\n",
      "RandomForestRegressor: RMSLE: 0.1559158972567478\n",
      "Best model: RandomForestRegressor\n"
     ]
    }
   ],
   "source": [
    "# Track best model and its RMSLE score\n",
    "best_model = None\n",
    "best_model_name = \"\"\n",
    "best_rmsle = float('inf')\n",
    "\n",
    "# Evaluate models\n",
    "for model in models:\n",
    "    # Train the model\n",
    "    model.fit(X_train, y_train)\n",
    "    \n",
    "    # Predictions\n",
    "    y_pred = model.predict(X_val)\n",
    "    \n",
    "    # Calculate RMSLE score\n",
    "    rmsle = rmsle_score(y_val, y_pred)\n",
    "    \n",
    "    # Print RMSLE score\n",
    "    print(f\"{model.__class__.__name__}: RMSLE: {rmsle}\")\n",
    "    \n",
    "    # Update best model if current model has lower RMSLE\n",
    "    if rmsle < best_rmsle:\n",
    "        best_model = model\n",
    "        best_model_name = model.__class__.__name__\n",
    "        best_rmsle = rmsle\n",
    "\n",
    "# Print name of the best model\n",
    "print(f\"Best model: {best_model_name}\")\n"
   ]
  },
  {
   "cell_type": "code",
   "execution_count": 22,
   "id": "d93ab958",
   "metadata": {},
   "outputs": [
    {
     "data": {
      "text/html": [
       "<style>#sk-container-id-1 {color: black;background-color: white;}#sk-container-id-1 pre{padding: 0;}#sk-container-id-1 div.sk-toggleable {background-color: white;}#sk-container-id-1 label.sk-toggleable__label {cursor: pointer;display: block;width: 100%;margin-bottom: 0;padding: 0.3em;box-sizing: border-box;text-align: center;}#sk-container-id-1 label.sk-toggleable__label-arrow:before {content: \"▸\";float: left;margin-right: 0.25em;color: #696969;}#sk-container-id-1 label.sk-toggleable__label-arrow:hover:before {color: black;}#sk-container-id-1 div.sk-estimator:hover label.sk-toggleable__label-arrow:before {color: black;}#sk-container-id-1 div.sk-toggleable__content {max-height: 0;max-width: 0;overflow: hidden;text-align: left;background-color: #f0f8ff;}#sk-container-id-1 div.sk-toggleable__content pre {margin: 0.2em;color: black;border-radius: 0.25em;background-color: #f0f8ff;}#sk-container-id-1 input.sk-toggleable__control:checked~div.sk-toggleable__content {max-height: 200px;max-width: 100%;overflow: auto;}#sk-container-id-1 input.sk-toggleable__control:checked~label.sk-toggleable__label-arrow:before {content: \"▾\";}#sk-container-id-1 div.sk-estimator input.sk-toggleable__control:checked~label.sk-toggleable__label {background-color: #d4ebff;}#sk-container-id-1 div.sk-label input.sk-toggleable__control:checked~label.sk-toggleable__label {background-color: #d4ebff;}#sk-container-id-1 input.sk-hidden--visually {border: 0;clip: rect(1px 1px 1px 1px);clip: rect(1px, 1px, 1px, 1px);height: 1px;margin: -1px;overflow: hidden;padding: 0;position: absolute;width: 1px;}#sk-container-id-1 div.sk-estimator {font-family: monospace;background-color: #f0f8ff;border: 1px dotted black;border-radius: 0.25em;box-sizing: border-box;margin-bottom: 0.5em;}#sk-container-id-1 div.sk-estimator:hover {background-color: #d4ebff;}#sk-container-id-1 div.sk-parallel-item::after {content: \"\";width: 100%;border-bottom: 1px solid gray;flex-grow: 1;}#sk-container-id-1 div.sk-label:hover label.sk-toggleable__label {background-color: #d4ebff;}#sk-container-id-1 div.sk-serial::before {content: \"\";position: absolute;border-left: 1px solid gray;box-sizing: border-box;top: 0;bottom: 0;left: 50%;z-index: 0;}#sk-container-id-1 div.sk-serial {display: flex;flex-direction: column;align-items: center;background-color: white;padding-right: 0.2em;padding-left: 0.2em;position: relative;}#sk-container-id-1 div.sk-item {position: relative;z-index: 1;}#sk-container-id-1 div.sk-parallel {display: flex;align-items: stretch;justify-content: center;background-color: white;position: relative;}#sk-container-id-1 div.sk-item::before, #sk-container-id-1 div.sk-parallel-item::before {content: \"\";position: absolute;border-left: 1px solid gray;box-sizing: border-box;top: 0;bottom: 0;left: 50%;z-index: -1;}#sk-container-id-1 div.sk-parallel-item {display: flex;flex-direction: column;z-index: 1;position: relative;background-color: white;}#sk-container-id-1 div.sk-parallel-item:first-child::after {align-self: flex-end;width: 50%;}#sk-container-id-1 div.sk-parallel-item:last-child::after {align-self: flex-start;width: 50%;}#sk-container-id-1 div.sk-parallel-item:only-child::after {width: 0;}#sk-container-id-1 div.sk-dashed-wrapped {border: 1px dashed gray;margin: 0 0.4em 0.5em 0.4em;box-sizing: border-box;padding-bottom: 0.4em;background-color: white;}#sk-container-id-1 div.sk-label label {font-family: monospace;font-weight: bold;display: inline-block;line-height: 1.2em;}#sk-container-id-1 div.sk-label-container {text-align: center;}#sk-container-id-1 div.sk-container {/* jupyter's `normalize.less` sets `[hidden] { display: none; }` but bootstrap.min.css set `[hidden] { display: none !important; }` so we also need the `!important` here to be able to override the default hidden behavior on the sphinx rendered scikit-learn.org. See: https://github.com/scikit-learn/scikit-learn/issues/21755 */display: inline-block !important;position: relative;}#sk-container-id-1 div.sk-text-repr-fallback {display: none;}</style><div id=\"sk-container-id-1\" class=\"sk-top-container\"><div class=\"sk-text-repr-fallback\"><pre>RandomForestRegressor(random_state=42)</pre><b>In a Jupyter environment, please rerun this cell to show the HTML representation or trust the notebook. <br />On GitHub, the HTML representation is unable to render, please try loading this page with nbviewer.org.</b></div><div class=\"sk-container\" hidden><div class=\"sk-item\"><div class=\"sk-estimator sk-toggleable\"><input class=\"sk-toggleable__control sk-hidden--visually\" id=\"sk-estimator-id-1\" type=\"checkbox\" checked><label for=\"sk-estimator-id-1\" class=\"sk-toggleable__label sk-toggleable__label-arrow\">RandomForestRegressor</label><div class=\"sk-toggleable__content\"><pre>RandomForestRegressor(random_state=42)</pre></div></div></div></div></div>"
      ],
      "text/plain": [
       "RandomForestRegressor(random_state=42)"
      ]
     },
     "execution_count": 22,
     "metadata": {},
     "output_type": "execute_result"
    }
   ],
   "source": [
    "# Train the best performing model on full data\n",
    "best_model.fit(X, y)"
   ]
  },
  {
   "cell_type": "code",
   "execution_count": 23,
   "id": "fea94cfc",
   "metadata": {},
   "outputs": [
    {
     "data": {
      "text/plain": [
       "['best_model']"
      ]
     },
     "execution_count": 23,
     "metadata": {},
     "output_type": "execute_result"
    }
   ],
   "source": [
    "# Save the best model using joblib\n",
    "joblib.dump(best_model, 'best_model')"
   ]
  },
  {
   "cell_type": "code",
   "execution_count": 24,
   "id": "a9a95f37",
   "metadata": {},
   "outputs": [],
   "source": [
    "# Prediction\n",
    "predictions = best_model.predict(X_test)"
   ]
  },
  {
   "cell_type": "code",
   "execution_count": 25,
   "id": "93d4c418",
   "metadata": {},
   "outputs": [],
   "source": [
    "# Prepare submission file\n",
    "submission_df = pd.DataFrame({'id': test_df['id'], 'Rings': predictions})\n",
    "submission_df.to_csv('submission.csv', index=False)"
   ]
  },
  {
   "cell_type": "code",
   "execution_count": 26,
   "id": "78e4d187",
   "metadata": {},
   "outputs": [
    {
     "data": {
      "text/plain": [
       "Index(['id', 'Sex', 'Length', 'Diameter', 'Height', 'Whole weight',\n",
       "       'Whole weight.1', 'Whole weight.2', 'Shell weight', 'Rings'],\n",
       "      dtype='object')"
      ]
     },
     "execution_count": 26,
     "metadata": {},
     "output_type": "execute_result"
    }
   ],
   "source": [
    "train_df.columns"
   ]
  },
  {
   "cell_type": "code",
   "execution_count": 27,
   "id": "f323fb74",
   "metadata": {},
   "outputs": [
    {
     "name": "stdout",
     "output_type": "stream",
     "text": [
      "Predicted Rings: [8.67]\n"
     ]
    }
   ],
   "source": [
    "# Single prediction using the best model \n",
    "# Load the saved model\n",
    "import joblib\n",
    "best_model = joblib.load('best_model')  \n",
    "\n",
    "# Prepare a dataframe with the features for prediction\n",
    "# Example Data\n",
    "data = {'Sex': ['Female'], \n",
    "        'Length': [0.455], \n",
    "        'Diameter': [0.365], \n",
    "        'Height': [0.095], \n",
    "        'Whole weight': [0.514],\n",
    "        'Whole weight.1': [0.2245], \n",
    "        'Whole weight.2': [0.101], \n",
    "        'Shell weight': [0.15]}\n",
    "predict_df = pd.DataFrame(data)\n",
    "\n",
    "# Encode categorical variables\n",
    "le = LabelEncoder()\n",
    "predict_df['Sex'] = le.fit_transform(predict_df['Sex'])\n",
    "\n",
    "# Make prediction\n",
    "prediction = best_model.predict(predict_df)\n",
    "\n",
    "print(\"Predicted Rings:\", prediction)"
   ]
  },
  {
   "cell_type": "markdown",
   "id": "c44fa40e",
   "metadata": {},
   "source": [
    "### GUI"
   ]
  },
  {
   "cell_type": "code",
   "execution_count": 28,
   "id": "03427c59",
   "metadata": {},
   "outputs": [],
   "source": [
    "import tkinter as tk\n",
    "from tkinter import ttk\n",
    "from tkinter import messagebox\n",
    "import joblib\n",
    "import pandas as pd\n",
    "import numpy as np\n",
    "from sklearn.preprocessing import LabelEncoder\n",
    "\n",
    "# Load the best model\n",
    "best_model = joblib.load('best_model')\n",
    "\n",
    "# Create a dictionary to store feature names and their respective input widgets\n",
    "feature_widgets = {}\n",
    "\n",
    "# Function to predict the rings\n",
    "def predict_rings():\n",
    "    try:\n",
    "        # Get input values from the user\n",
    "        input_data = []\n",
    "        for feature, widget in feature_widgets.items():\n",
    "            if feature == 'Sex':\n",
    "                input_data.append(sex_encode[widget.get()])\n",
    "            else:\n",
    "                input_data.append(float(widget.get()))\n",
    "        \n",
    "        # Predict rings using the best model\n",
    "        prediction = best_model.predict([input_data])[0]\n",
    "        \n",
    "        # Show prediction\n",
    "        messagebox.showinfo(\"Prediction\", f\"Predicted number of rings: {prediction}\")\n",
    "    except Exception as e:\n",
    "        messagebox.showerror(\"Error\", f\"Error occurred: {e}\")\n",
    "\n",
    "# Load train data to get feature names for input\n",
    "train_df = pd.read_csv('train.csv')\n",
    "feature_names = train_df.columns.drop(['id', 'Rings'])\n",
    "\n",
    "# Encode Sex feature\n",
    "le = LabelEncoder()\n",
    "train_df['Sex'] = le.fit_transform(train_df['Sex'])\n",
    "sex_encode = {val: key for key, val in enumerate(le.classes_)}\n",
    "\n",
    "# Create GUI window\n",
    "root = tk.Tk()\n",
    "root.title(\"Predict Rings\")\n",
    "\n",
    "# Function to create input widgets for features\n",
    "def create_input_widgets():\n",
    "    for idx, feature in enumerate(feature_names):\n",
    "        if feature == 'Sex':\n",
    "            label = ttk.Label(root, text=feature)\n",
    "            label.grid(row=idx, column=0, padx=5, pady=5, sticky=\"e\")\n",
    "            sex_options = list(sex_encode.keys())\n",
    "            sex_var = tk.StringVar(root)\n",
    "            sex_dropdown = ttk.Combobox(root, textvariable=sex_var, values=sex_options, state=\"readonly\")\n",
    "            sex_dropdown.grid(row=idx, column=1, padx=5, pady=5, sticky=\"w\")\n",
    "            feature_widgets[feature] = sex_var\n",
    "        else:\n",
    "            label = ttk.Label(root, text=feature)\n",
    "            label.grid(row=idx, column=0, padx=5, pady=5, sticky=\"e\")\n",
    "            entry = ttk.Entry(root)\n",
    "            entry.grid(row=idx, column=1, padx=5, pady=5, sticky=\"w\")\n",
    "            feature_widgets[feature] = entry\n",
    "\n",
    "# Function to clear input values\n",
    "def clear_inputs():\n",
    "    for widget in feature_widgets.values():\n",
    "        if isinstance(widget, tk.StringVar):\n",
    "            widget.set('')\n",
    "        else:\n",
    "            widget.delete(0, 'end')\n",
    "\n",
    "# Function to exit the application\n",
    "def exit_app():\n",
    "    root.destroy()\n",
    "\n",
    "# Create input widgets for features\n",
    "create_input_widgets()\n",
    "\n",
    "# Create Predict and Clear buttons\n",
    "predict_button = ttk.Button(root, text=\"Predict\", command=predict_rings)\n",
    "predict_button.grid(row=len(feature_names), column=0, columnspan=2, padx=5, pady=10, sticky=\"we\")\n",
    "\n",
    "clear_button = ttk.Button(root, text=\"Clear\", command=clear_inputs)\n",
    "clear_button.grid(row=len(feature_names)+1, column=0, columnspan=2, padx=5, pady=5, sticky=\"we\")\n",
    "\n",
    "exit_button = ttk.Button(root, text=\"Exit\", command=exit_app)\n",
    "exit_button.grid(row=len(feature_names)+2, column=0, columnspan=2, padx=5, pady=5, sticky=\"we\")\n",
    "\n",
    "# Run the GUI\n",
    "root.mainloop()"
   ]
  },
  {
   "cell_type": "code",
   "execution_count": null,
   "id": "fb08d6da",
   "metadata": {},
   "outputs": [],
   "source": []
  }
 ],
 "metadata": {
  "kernelspec": {
   "display_name": "Python 3 (ipykernel)",
   "language": "python",
   "name": "python3"
  },
  "language_info": {
   "codemirror_mode": {
    "name": "ipython",
    "version": 3
   },
   "file_extension": ".py",
   "mimetype": "text/x-python",
   "name": "python",
   "nbconvert_exporter": "python",
   "pygments_lexer": "ipython3",
   "version": "3.11.7"
  }
 },
 "nbformat": 4,
 "nbformat_minor": 5
}
